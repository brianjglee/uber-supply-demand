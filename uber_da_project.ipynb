{
 "cells": [
  {
   "cell_type": "markdown",
   "metadata": {},
   "source": [
    "# Uber: Insights from City Supply and Demand Data Analytics Project"
   ]
  },
  {
   "cell_type": "markdown",
   "metadata": {},
   "source": [
    "In this Uber dataset, we find the date when the data was gathered, the local time (24 hours), the number of people who opened the app (eyeballs), the number of people who did not see any cars (zeroes), the number of completed trips, the number of rides requested, as well as the number of unique drivers available at the hour. I hope to answer a few potential business questions using this given dataset. This dataset takes place over a two week period. \n",
    "\n",
    "In the first step, we import the data set, and clean it up for our analysis."
   ]
  },
  {
   "cell_type": "code",
   "execution_count": 3,
   "metadata": {},
   "outputs": [
    {
     "name": "stdout",
     "output_type": "stream",
     "text": [
      "          Date  Time (Local)  Eyeballs   Zeroes   Completed Trips   Requests   \\\n",
      "0    10-Sep-12             7          5        0                 2          2   \n",
      "1          NaN             8          6        0                 2          2   \n",
      "2          NaN             9          8        3                 0          0   \n",
      "3          NaN            10          9        2                 0          1   \n",
      "4          NaN            11         11        1                 4          4   \n",
      "..         ...           ...        ...      ...               ...        ...   \n",
      "331        NaN             2          3        3                 0          2   \n",
      "332        NaN             3          3        3                 0          1   \n",
      "333        NaN             4          1        1                 0          0   \n",
      "334        NaN             5          4        2                 1          1   \n",
      "335        NaN             6          9        1                 2          2   \n",
      "\n",
      "     Unique Drivers  \n",
      "0                 9  \n",
      "1                14  \n",
      "2                14  \n",
      "3                14  \n",
      "4                11  \n",
      "..              ...  \n",
      "331               0  \n",
      "332               0  \n",
      "333               0  \n",
      "334               3  \n",
      "335               7  \n",
      "\n",
      "[336 rows x 7 columns]\n"
     ]
    }
   ],
   "source": [
    "# import csv file into pandas \n",
    "import pandas as pd\n",
    "\n",
    "df = pd.read_csv('dataset_1.csv')\n",
    "\n",
    "print(df)"
   ]
  },
  {
   "cell_type": "code",
   "execution_count": 4,
   "metadata": {},
   "outputs": [
    {
     "name": "stdout",
     "output_type": "stream",
     "text": [
      "<class 'pandas.core.frame.DataFrame'>\n",
      "RangeIndex: 336 entries, 0 to 335\n",
      "Data columns (total 7 columns):\n",
      " #   Column           Non-Null Count  Dtype \n",
      "---  ------           --------------  ----- \n",
      " 0   date             336 non-null    object\n",
      " 1   time             336 non-null    int64 \n",
      " 2   eyeballs         336 non-null    int64 \n",
      " 3   zeroes           336 non-null    int64 \n",
      " 4   completed_trips  336 non-null    int64 \n",
      " 5   requests         336 non-null    int64 \n",
      " 6   unique_drivers   336 non-null    int64 \n",
      "dtypes: int64(6), object(1)\n",
      "memory usage: 18.5+ KB\n"
     ]
    }
   ],
   "source": [
    "# The date column is mostly NaN because the previous date is the date for every value. We replace the null values with the proper date.\n",
    "df = df.fillna(method='ffill')\n",
    "\n",
    "# renaming columns to make them more sql friendly\n",
    "df = df.rename(columns={\n",
    "      'Date':'date'\n",
    "    , 'Time (Local)':'time'\n",
    "    , 'Eyeballs ':'eyeballs'\n",
    "    , 'Zeroes ':'zeroes'\n",
    "    , 'Completed Trips ':'completed_trips'\n",
    "    , 'Requests ':'requests'\n",
    "    , 'Unique Drivers':'unique_drivers'})\n",
    "\n",
    "# confirming we have non null values as well as the type of values we have in each column. \n",
    "df.info()"
   ]
  },
  {
   "cell_type": "code",
   "execution_count": 5,
   "metadata": {},
   "outputs": [
    {
     "name": "stdout",
     "output_type": "stream",
     "text": [
      "Requirement already satisfied: pandasql in /Users/xblee/anaconda3/lib/python3.11/site-packages (0.7.3)\n",
      "Requirement already satisfied: numpy in /Users/xblee/anaconda3/lib/python3.11/site-packages (from pandasql) (1.24.3)\n",
      "Requirement already satisfied: pandas in /Users/xblee/anaconda3/lib/python3.11/site-packages (from pandasql) (1.5.3)\n",
      "Requirement already satisfied: sqlalchemy in /Users/xblee/anaconda3/lib/python3.11/site-packages (from pandasql) (1.4.39)\n",
      "Requirement already satisfied: python-dateutil>=2.8.1 in /Users/xblee/anaconda3/lib/python3.11/site-packages (from pandas->pandasql) (2.8.2)\n",
      "Requirement already satisfied: pytz>=2020.1 in /Users/xblee/anaconda3/lib/python3.11/site-packages (from pandas->pandasql) (2022.7)\n",
      "Requirement already satisfied: greenlet!=0.4.17 in /Users/xblee/anaconda3/lib/python3.11/site-packages (from sqlalchemy->pandasql) (2.0.1)\n",
      "Requirement already satisfied: six>=1.5 in /Users/xblee/anaconda3/lib/python3.11/site-packages (from python-dateutil>=2.8.1->pandas->pandasql) (1.16.0)\n",
      "\n",
      "\u001b[1m[\u001b[0m\u001b[34;49mnotice\u001b[0m\u001b[1;39;49m]\u001b[0m\u001b[39;49m A new release of pip is available: \u001b[0m\u001b[31;49m23.2.1\u001b[0m\u001b[39;49m -> \u001b[0m\u001b[32;49m23.3\u001b[0m\n",
      "\u001b[1m[\u001b[0m\u001b[34;49mnotice\u001b[0m\u001b[1;39;49m]\u001b[0m\u001b[39;49m To update, run: \u001b[0m\u001b[32;49mpip install --upgrade pip\u001b[0m\n",
      "Note: you may need to restart the kernel to use updated packages.\n"
     ]
    }
   ],
   "source": [
    "# pandasql let's me run sql queries in python.\n",
    "pip install pandasql\n",
    "\n",
    "from pandasql import sqldf"
   ]
  },
  {
   "cell_type": "markdown",
   "metadata": {},
   "source": [
    "### Question 1: Which date had the most completed trips during the two week period?"
   ]
  },
  {
   "cell_type": "code",
   "execution_count": 7,
   "metadata": {},
   "outputs": [
    {
     "name": "stdout",
     "output_type": "stream",
     "text": [
      "         date  total_trips\n",
      "0   22-Sep-12          248\n",
      "1   15-Sep-12          199\n",
      "2   21-Sep-12          190\n",
      "3   23-Sep-12          111\n",
      "4   14-Sep-12          108\n",
      "5   16-Sep-12           93\n",
      "6   12-Sep-12           91\n",
      "7   20-Sep-12           70\n",
      "8   17-Sep-12           57\n",
      "9   13-Sep-12           45\n",
      "10  18-Sep-12           42\n",
      "11  19-Sep-12           41\n",
      "12  11-Sep-12           40\n",
      "13  10-Sep-12           26\n",
      "14  24-Sep-12            4\n"
     ]
    }
   ],
   "source": [
    "pysqldf = sqldf(\n",
    "    \"SELECT date, SUM(completed_trips) AS total_trips FROM df GROUP BY date ORDER BY total_trips DESC;\")\n",
    "\n",
    "print(pysqldf)"
   ]
  },
  {
   "cell_type": "markdown",
   "metadata": {},
   "source": [
    "The date with the most completed trips is September 22, 2012 with 248 completed trips. "
   ]
  },
  {
   "cell_type": "markdown",
   "metadata": {},
   "source": [
    "### Question 2: What was the highest number of completed trips within a 24 hour period?"
   ]
  },
  {
   "cell_type": "code",
   "execution_count": 8,
   "metadata": {},
   "outputs": [
    {
     "name": "stdout",
     "output_type": "stream",
     "text": [
      "          date  time  eyeballs  zeroes  completed_trips  requests  \\\n",
      "0    10-Sep-12     7         5       0                2         2   \n",
      "1    10-Sep-12     8         6       0                2         2   \n",
      "2    10-Sep-12     9         8       3                0         0   \n",
      "3    10-Sep-12    10         9       2                0         1   \n",
      "4    10-Sep-12    11        11       1                4         4   \n",
      "..         ...   ...       ...     ...              ...       ...   \n",
      "331  24-Sep-12     2         3       3                0         2   \n",
      "332  24-Sep-12     3         3       3                0         1   \n",
      "333  24-Sep-12     4         1       1                0         0   \n",
      "334  24-Sep-12     5         4       2                1         1   \n",
      "335  24-Sep-12     6         9       1                2         2   \n",
      "\n",
      "     unique_drivers  trips_twentyfour  \n",
      "0                 9                29  \n",
      "1                14                29  \n",
      "2                14                27  \n",
      "3                14                27  \n",
      "4                11                28  \n",
      "..              ...               ...  \n",
      "331               0                 3  \n",
      "332               0                 3  \n",
      "333               0                 3  \n",
      "334               3                 3  \n",
      "335               7                 2  \n",
      "\n",
      "[336 rows x 8 columns]\n"
     ]
    }
   ],
   "source": [
    "col = [] # list to store our results.\n",
    "# for every row, we will add the number of completed trips from the next 23 rows to the current row.\n",
    "for r in range(0,len(df)):\n",
    "    trips = 0\n",
    "    for i in range(0,24):\n",
    "        # if the row is out of range, then we stop the forloop.\n",
    "        if (r+i > len(df)-1):\n",
    "            trips += 0\n",
    "            break;\n",
    "        trips += df._get_value(index=r+i, col='completed_trips')\n",
    "    col.append(trips)\n",
    "df['trips_twentyfour'] = col\n",
    "print(df)\n"
   ]
  },
  {
   "cell_type": "code",
   "execution_count": 10,
   "metadata": {},
   "outputs": [
    {
     "name": "stdout",
     "output_type": "stream",
     "text": [
      "          date  time  trips_twentyfour\n",
      "0    21-Sep-12    17               278\n",
      "1    21-Sep-12    16               274\n",
      "2    21-Sep-12    20               261\n",
      "3    21-Sep-12    15               260\n",
      "4    21-Sep-12    18               260\n",
      "..         ...   ...               ...\n",
      "331  24-Sep-12     2                 3\n",
      "332  24-Sep-12     3                 3\n",
      "333  24-Sep-12     4                 3\n",
      "334  24-Sep-12     5                 3\n",
      "335  24-Sep-12     6                 2\n",
      "\n",
      "[336 rows x 3 columns]\n"
     ]
    }
   ],
   "source": [
    "pysqldf = sqldf(\n",
    "    \"SELECT date, time, trips_twentyfour FROM df ORDER BY trips_twentyfour DESC;\")\n",
    "\n",
    "print(pysqldf)"
   ]
  },
  {
   "cell_type": "markdown",
   "metadata": {},
   "source": [
    "The most amount of completed trips in the past 24 hours was 278 trips made between September 21, 2012 5PM to September 22, 2012 5PM. "
   ]
  },
  {
   "cell_type": "markdown",
   "metadata": {},
   "source": [
    "### Question 3: Which hour of the day had the most requests during the two week period?"
   ]
  },
  {
   "cell_type": "code",
   "execution_count": 11,
   "metadata": {},
   "outputs": [
    {
     "name": "stdout",
     "output_type": "stream",
     "text": [
      "    time  total_requests\n",
      "0     23             184\n",
      "1     22             174\n",
      "2     19             156\n",
      "3      0             142\n",
      "4     18             119\n",
      "5     21             112\n",
      "6     20             107\n",
      "7      2             100\n",
      "8     17              98\n",
      "9      1              96\n",
      "10    16              82\n",
      "11    15              71\n",
      "12    14              71\n",
      "13    13              55\n",
      "14    12              53\n",
      "15    11              47\n",
      "16     3              35\n",
      "17     8              29\n",
      "18    10              28\n",
      "19     6              28\n",
      "20     9              26\n",
      "21     7              22\n",
      "22     5              14\n",
      "23     4               9\n"
     ]
    }
   ],
   "source": [
    "pysqldf = sqldf(\n",
    "    \"SELECT time, SUM(requests) AS total_requests FROM df GROUP BY time ORDER BY total_requests DESC;\"\n",
    ")\n",
    "print(pysqldf)"
   ]
  },
  {
   "cell_type": "markdown",
   "metadata": {},
   "source": [
    "The 23rd hour of the day, or 11PM, has the most requests during the two week period. "
   ]
  },
  {
   "cell_type": "markdown",
   "metadata": {},
   "source": [
    "#### Question 4: What percentages of all zeroes during the two week period occurred on weekend (Friday at 5 pm to Sunday at 3 am)?"
   ]
  },
  {
   "cell_type": "code",
   "execution_count": 12,
   "metadata": {},
   "outputs": [
    {
     "name": "stdout",
     "output_type": "stream",
     "text": [
      "          date  time  eyeballs  zeroes  completed_trips  requests  \\\n",
      "0    10-Sep-12     7         5       0                2         2   \n",
      "1    10-Sep-12     8         6       0                2         2   \n",
      "2    10-Sep-12     9         8       3                0         0   \n",
      "3    10-Sep-12    10         9       2                0         1   \n",
      "4    10-Sep-12    11        11       1                4         4   \n",
      "..         ...   ...       ...     ...              ...       ...   \n",
      "331  24-Sep-12     2         3       3                0         2   \n",
      "332  24-Sep-12     3         3       3                0         1   \n",
      "333  24-Sep-12     4         1       1                0         0   \n",
      "334  24-Sep-12     5         4       2                1         1   \n",
      "335  24-Sep-12     6         9       1                2         2   \n",
      "\n",
      "     unique_drivers  trips_twentyfour day_of_week  \n",
      "0                 9                29      Monday  \n",
      "1                14                29      Monday  \n",
      "2                14                27      Monday  \n",
      "3                14                27      Monday  \n",
      "4                11                28      Monday  \n",
      "..              ...               ...         ...  \n",
      "331               0                 3      Monday  \n",
      "332               0                 3      Monday  \n",
      "333               0                 3      Monday  \n",
      "334               3                 3      Monday  \n",
      "335               7                 2      Monday  \n",
      "\n",
      "[336 rows x 9 columns]\n"
     ]
    }
   ],
   "source": [
    "pd.to_datetime(df['date'])\n",
    "df['day_of_week'] = pd.to_datetime(df['date']).dt.day_name()\n",
    "print(df)"
   ]
  },
  {
   "cell_type": "code",
   "execution_count": 13,
   "metadata": {},
   "outputs": [
    {
     "name": "stdout",
     "output_type": "stream",
     "text": [
      "641\n",
      "1429\n",
      "44.856543037088876\n"
     ]
    }
   ],
   "source": [
    "# sum of zeros between friday at time 5 to sunday at time 4\n",
    "weekend_zeroes = 0\n",
    "for row in range(0, len(df)):\n",
    "    if (df._get_value(index=row, col='day_of_week') == 'Friday' and df._get_value(index=row, col='time') >= 17):\n",
    "        weekend_zeroes += df._get_value(index=row, col='zeroes')\n",
    "    elif (df._get_value(index=row, col='day_of_week') == 'Saturday'):\n",
    "        weekend_zeroes += df._get_value(index=row, col='zeroes')\n",
    "    elif (df._get_value(index=row, col='day_of_week') == 'Sunday' and df._get_value(index=row, col='time') < 3):\n",
    "        weekend_zeroes += df._get_value(index=row, col='zeroes')\n",
    "print(weekend_zeroes)\n",
    "\n",
    "# sum of zeroes total\n",
    "total_zeroes = df['zeroes'].sum()\n",
    "print(total_zeroes)\n",
    "\n",
    "# find percentage\n",
    "print(weekend_zeroes*100.0/total_zeroes)"
   ]
  },
  {
   "cell_type": "markdown",
   "metadata": {},
   "source": [
    "About 49.41% of all zeroes occured over the weekend. "
   ]
  },
  {
   "cell_type": "markdown",
   "metadata": {},
   "source": [
    "#### Question 5: What is the weighted average ratio of completed trips per driver during the two week period?"
   ]
  },
  {
   "cell_type": "code",
   "execution_count": 14,
   "metadata": {},
   "outputs": [
    {
     "data": {
      "text/plain": [
       "0.47274804343978094"
      ]
     },
     "execution_count": 14,
     "metadata": {},
     "output_type": "execute_result"
    }
   ],
   "source": [
    "import numpy as np\n",
    "\n",
    "# completed trips / number of drivers = average trips per driver\n",
    "df['average_trips'] = df['completed_trips']/df['unique_drivers']\n",
    "df.replace([np.inf, -np.inf], 0, inplace=True)\n",
    "\n",
    "# average trips per driver / total rows = weighted average\n",
    "df['average_trips'].mean()\n"
   ]
  },
  {
   "cell_type": "markdown",
   "metadata": {},
   "source": [
    "The weighted average ratio of completed trips per driver is about 0.47 completed trips per driver. "
   ]
  },
  {
   "cell_type": "markdown",
   "metadata": {},
   "source": [
    "#### Question 6: In drafting a driver schedule in terms of 8 hours shifts, when are the busiest 8 consecutive hours over the two week period in terms of unique requests, if a new shift begins every 8 hours?"
   ]
  },
  {
   "cell_type": "code",
   "execution_count": 15,
   "metadata": {},
   "outputs": [
    {
     "name": "stdout",
     "output_type": "stream",
     "text": [
      "                     time  eyeballs  zeroes  completed_trips  requests  \\\n",
      "Timestamp                                                                \n",
      "2012-09-10 00:00:00     7         5       0                2         2   \n",
      "2012-09-10 08:00:00    92        78      10                9        11   \n",
      "2012-09-10 16:00:00   156       106      16               15        21   \n",
      "2012-09-11 00:00:00    28        33      12                5         7   \n",
      "2012-09-11 08:00:00    92       108      11                5         6   \n",
      "2012-09-11 16:00:00   156       173      41               30        39   \n",
      "2012-09-12 00:00:00    28        39      16                6        13   \n",
      "2012-09-12 08:00:00    92       213      15               52        60   \n",
      "2012-09-12 16:00:00   156       171      24               33        41   \n",
      "2012-09-13 00:00:00    28        40      28                3        12   \n",
      "2012-09-13 08:00:00    92       117      30               14        18   \n",
      "2012-09-13 16:00:00   156       168      22               28        37   \n",
      "2012-09-14 00:00:00    28        50      24               11        21   \n",
      "2012-09-14 08:00:00    92       146      22               16        21   \n",
      "2012-09-14 16:00:00   156       353      46               81        95   \n",
      "2012-09-15 00:00:00    28       155      34               63        74   \n",
      "2012-09-15 08:00:00    92       197      72               24        38   \n",
      "2012-09-15 16:00:00   156       436     152              112       170   \n",
      "2012-09-16 00:00:00    28       142      23               51        64   \n",
      "2012-09-16 08:00:00    92       134      35               17        22   \n",
      "2012-09-16 16:00:00   156       150      35               25        32   \n",
      "2012-09-17 00:00:00    28        45      21                5        11   \n",
      "2012-09-17 08:00:00    92       125      19               10        14   \n",
      "2012-09-17 16:00:00   156       207      36               42        53   \n",
      "2012-09-18 00:00:00    28        59      35                8        28   \n",
      "2012-09-18 08:00:00    92       126      17                9        18   \n",
      "2012-09-18 16:00:00   156       157      42               25        35   \n",
      "2012-09-19 00:00:00    28        34       4                6         8   \n",
      "2012-09-19 08:00:00    92       112      21               11        15   \n",
      "2012-09-19 16:00:00   156       173      21               24        31   \n",
      "2012-09-20 00:00:00    28        26      14                5        10   \n",
      "2012-09-20 08:00:00    92       117      21               12        17   \n",
      "2012-09-20 16:00:00   156       232      33               53        68   \n",
      "2012-09-21 00:00:00    28        53      12               16        20   \n",
      "2012-09-21 08:00:00    92       172      24               21        28   \n",
      "2012-09-21 16:00:00   156       515      88              153       192   \n",
      "2012-09-22 00:00:00    28       166      28               51        78   \n",
      "2012-09-22 08:00:00    92       325      78               70        91   \n",
      "2012-09-22 16:00:00   156       469     113              127       175   \n",
      "2012-09-23 00:00:00    28       178      50               63        90   \n",
      "2012-09-23 08:00:00    92       148      26               14        21   \n",
      "2012-09-23 16:00:00   156       200      39               34        43   \n",
      "2012-09-24 00:00:00    21        34      19                4         8   \n",
      "\n",
      "                     unique_drivers  trips_twentyfour  average_trips  \n",
      "Timestamp                                                             \n",
      "2012-09-10 00:00:00               9                29       0.222222  \n",
      "2012-09-10 08:00:00              89               204       0.831169  \n",
      "2012-09-10 16:00:00              40               243       3.047619  \n",
      "2012-09-11 00:00:00              17               320       1.400000  \n",
      "2012-09-11 08:00:00              58               496       0.690079  \n",
      "2012-09-11 16:00:00              57               734       4.145887  \n",
      "2012-09-12 00:00:00              12               721       2.000000  \n",
      "2012-09-12 08:00:00             113               567       3.766558  \n",
      "2012-09-12 16:00:00              76               349       3.704240  \n",
      "2012-09-13 00:00:00               6               400       1.250000  \n",
      "2012-09-13 08:00:00              76               445       1.461111  \n",
      "2012-09-13 16:00:00              77               527       3.806061  \n",
      "2012-09-14 00:00:00              16              1185       4.900000  \n",
      "2012-09-14 08:00:00              74              1282       1.779870  \n",
      "2012-09-14 16:00:00             121              1483       4.997644  \n",
      "2012-09-15 00:00:00              59              1531       5.335526  \n",
      "2012-09-15 08:00:00              27              1485       6.933333  \n",
      "2012-09-15 16:00:00             107              1213       8.299235  \n",
      "2012-09-16 00:00:00              53               448       3.921429  \n",
      "2012-09-16 08:00:00              38               369       3.740476  \n",
      "2012-09-16 16:00:00              59               398       3.758333  \n",
      "2012-09-17 00:00:00              19               483       1.050000  \n",
      "2012-09-17 08:00:00              72               468       1.072222  \n",
      "2012-09-17 16:00:00              73               396       4.563148  \n",
      "2012-09-18 00:00:00              13               315       3.350000  \n",
      "2012-09-18 08:00:00              73               328       1.030159  \n",
      "2012-09-18 16:00:00              48               317       4.489683  \n",
      "2012-09-19 00:00:00              20               331       2.685714  \n",
      "2012-09-19 08:00:00              75               321       1.311147  \n",
      "2012-09-19 16:00:00              91               425       2.326282  \n",
      "2012-09-20 00:00:00              11               650       1.500000  \n",
      "2012-09-20 08:00:00              80               639       1.205988  \n",
      "2012-09-20 16:00:00              88              1016       4.667347  \n",
      "2012-09-21 00:00:00              27              1715       2.025397  \n",
      "2012-09-21 08:00:00              73              1906       1.992857  \n",
      "2012-09-21 16:00:00             198              2099       6.357265  \n",
      "2012-09-22 00:00:00              73              2037       4.537037  \n",
      "2012-09-22 08:00:00              77              1980       6.780556  \n",
      "2012-09-22 16:00:00             142              1410       7.314552  \n",
      "2012-09-23 00:00:00              77               546       5.395833  \n",
      "2012-09-23 08:00:00              60               378       1.751984  \n",
      "2012-09-23 16:00:00              67               158       4.361905  \n",
      "2012-09-24 00:00:00              12                21       1.119048  \n"
     ]
    },
    {
     "name": "stderr",
     "output_type": "stream",
     "text": [
      "/var/folders/bt/vmz2h6t112j7lvw7v2yshbmw0000gn/T/ipykernel_19385/2149298167.py:6: FutureWarning: The default value of numeric_only in DataFrameGroupBy.sum is deprecated. In a future version, numeric_only will default to False. Either specify numeric_only or select only columns which should be valid for the function.\n",
      "  df_eight_hr_shift = df.set_index('Timestamp').resample('8H').sum()\n"
     ]
    }
   ],
   "source": [
    "# we create a function for a timestamp column to use for resampling the dataset. \n",
    "def create_timestamp(date, time):\n",
    "    return pd.to_datetime(f\"{date} {time}:00\")\n",
    "df['Timestamp'] = df.apply(lambda row: create_timestamp(row['date'], row['time']), axis=1)\n",
    "\n",
    "df_eight_hr_shift = df.set_index('Timestamp').resample('8H').sum()\n",
    "print(df_eight_hr_shift)"
   ]
  },
  {
   "cell_type": "code",
   "execution_count": 16,
   "metadata": {},
   "outputs": [
    {
     "name": "stdout",
     "output_type": "stream",
     "text": [
      "                    Timestamp  requests\n",
      "0  2012-09-21 16:00:00.000000       192\n"
     ]
    }
   ],
   "source": [
    "pysqldf = sqldf(\n",
    "    \"SELECT Timestamp, requests FROM df_eight_hr_shift ORDER BY requests DESC LIMIT 1;\")\n",
    "\n",
    "print(pysqldf)"
   ]
  },
  {
   "cell_type": "markdown",
   "metadata": {},
   "source": [
    "The busiest 8 hour shift in the two week period was September 21, 2012 from 4PM to September 22, 2012 12AM with 192 requests."
   ]
  },
  {
   "cell_type": "markdown",
   "metadata": {},
   "source": [
    "#### Question 7: Does the driver supply always increases when demand increases during the two week period?"
   ]
  },
  {
   "cell_type": "code",
   "execution_count": 36,
   "metadata": {},
   "outputs": [
    {
     "data": {
      "text/html": [
       "<div>\n",
       "<style scoped>\n",
       "    .dataframe tbody tr th:only-of-type {\n",
       "        vertical-align: middle;\n",
       "    }\n",
       "\n",
       "    .dataframe tbody tr th {\n",
       "        vertical-align: top;\n",
       "    }\n",
       "\n",
       "    .dataframe thead th {\n",
       "        text-align: right;\n",
       "    }\n",
       "</style>\n",
       "<table border=\"1\" class=\"dataframe\">\n",
       "  <thead>\n",
       "    <tr style=\"text-align: right;\">\n",
       "      <th></th>\n",
       "      <th>Timestamp</th>\n",
       "      <th>supply</th>\n",
       "      <th>demand</th>\n",
       "    </tr>\n",
       "  </thead>\n",
       "  <tbody>\n",
       "    <tr>\n",
       "      <th>0</th>\n",
       "      <td>2012-09-10 07:00:00</td>\n",
       "      <td>5.0</td>\n",
       "      <td>0.0</td>\n",
       "    </tr>\n",
       "    <tr>\n",
       "      <th>1</th>\n",
       "      <td>2012-09-10 08:00:00</td>\n",
       "      <td>0.0</td>\n",
       "      <td>-2.0</td>\n",
       "    </tr>\n",
       "    <tr>\n",
       "      <th>2</th>\n",
       "      <td>2012-09-10 09:00:00</td>\n",
       "      <td>0.0</td>\n",
       "      <td>1.0</td>\n",
       "    </tr>\n",
       "    <tr>\n",
       "      <th>3</th>\n",
       "      <td>2012-09-10 10:00:00</td>\n",
       "      <td>-3.0</td>\n",
       "      <td>3.0</td>\n",
       "    </tr>\n",
       "    <tr>\n",
       "      <th>4</th>\n",
       "      <td>2012-09-10 11:00:00</td>\n",
       "      <td>0.0</td>\n",
       "      <td>-2.0</td>\n",
       "    </tr>\n",
       "    <tr>\n",
       "      <th>...</th>\n",
       "      <td>...</td>\n",
       "      <td>...</td>\n",
       "      <td>...</td>\n",
       "    </tr>\n",
       "    <tr>\n",
       "      <th>331</th>\n",
       "      <td>2012-09-24 02:00:00</td>\n",
       "      <td>0.0</td>\n",
       "      <td>-1.0</td>\n",
       "    </tr>\n",
       "    <tr>\n",
       "      <th>332</th>\n",
       "      <td>2012-09-24 03:00:00</td>\n",
       "      <td>0.0</td>\n",
       "      <td>-1.0</td>\n",
       "    </tr>\n",
       "    <tr>\n",
       "      <th>333</th>\n",
       "      <td>2012-09-24 04:00:00</td>\n",
       "      <td>3.0</td>\n",
       "      <td>1.0</td>\n",
       "    </tr>\n",
       "    <tr>\n",
       "      <th>334</th>\n",
       "      <td>2012-09-24 05:00:00</td>\n",
       "      <td>4.0</td>\n",
       "      <td>1.0</td>\n",
       "    </tr>\n",
       "    <tr>\n",
       "      <th>335</th>\n",
       "      <td>2012-09-24 06:00:00</td>\n",
       "      <td>NaN</td>\n",
       "      <td>NaN</td>\n",
       "    </tr>\n",
       "  </tbody>\n",
       "</table>\n",
       "<p>336 rows × 3 columns</p>\n",
       "</div>"
      ],
      "text/plain": [
       "              Timestamp  supply  demand\n",
       "0   2012-09-10 07:00:00     5.0     0.0\n",
       "1   2012-09-10 08:00:00     0.0    -2.0\n",
       "2   2012-09-10 09:00:00     0.0     1.0\n",
       "3   2012-09-10 10:00:00    -3.0     3.0\n",
       "4   2012-09-10 11:00:00     0.0    -2.0\n",
       "..                  ...     ...     ...\n",
       "331 2012-09-24 02:00:00     0.0    -1.0\n",
       "332 2012-09-24 03:00:00     0.0    -1.0\n",
       "333 2012-09-24 04:00:00     3.0     1.0\n",
       "334 2012-09-24 05:00:00     4.0     1.0\n",
       "335 2012-09-24 06:00:00     NaN     NaN\n",
       "\n",
       "[336 rows x 3 columns]"
      ]
     },
     "execution_count": 36,
     "metadata": {},
     "output_type": "execute_result"
    }
   ],
   "source": [
    "# we should always see the supply increase when the demand increases. \n",
    "df_change = pd.DataFrame(df['Timestamp'])\n",
    "# calculate change in supply\n",
    "df_change['supply'] = df['unique_drivers'].shift(-1)-df['unique_drivers']\n",
    "\n",
    "# calculate change in demand\n",
    "df_change['demand'] = df['requests'].shift(-1)-df['requests']\n",
    "\n",
    "df_change"
   ]
  },
  {
   "cell_type": "code",
   "execution_count": 173,
   "metadata": {},
   "outputs": [
    {
     "data": {
      "image/png": "[encoded data removed]",
      "text/plain": [
       "<Figure size 640x480 with 1 Axes>"
      ]
     },
     "metadata": {},
     "output_type": "display_data"
    }
   ],
   "source": [
    "ax1 = df.plot(x='Timestamp', y='requests', c='DarkBlue')\n",
    "ax2 = df.plot(x='Timestamp', y='unique_drivers', c='Green', ax=ax1)"
   ]
  },
  {
   "cell_type": "markdown",
   "metadata": {},
   "source": [
    "Numerically, no. When we look at the change in supply and demand, we should see a sign correlation between both columns. Looking at the first three columns, we see no change in the number of drivers while the change in requests fluctuates. However, when looking at the plot, we find that generally, the green peaks (unique_drivers) occur simultaneously or after the blue peaks (requests) occur. So even if it's not an immediate change within the hour, the two seem to be correlated. "
   ]
  },
  {
   "cell_type": "markdown",
   "metadata": {},
   "source": [
    "#### Question 8: In which 72 hour period is the ratio of Zeroes to Eyeballs the highest?"
   ]
  },
  {
   "cell_type": "code",
   "execution_count": 179,
   "metadata": {},
   "outputs": [
    {
     "name": "stdout",
     "output_type": "stream",
     "text": [
      "          date  time  eyeballs  zeroes  completed_trips  requests  \\\n",
      "0    10-Sep-12     7         5       0                2         2   \n",
      "1    10-Sep-12     8         6       0                2         2   \n",
      "2    10-Sep-12     9         8       3                0         0   \n",
      "3    10-Sep-12    10         9       2                0         1   \n",
      "4    10-Sep-12    11        11       1                4         4   \n",
      "..         ...   ...       ...     ...              ...       ...   \n",
      "331  24-Sep-12     2         3       3                0         2   \n",
      "332  24-Sep-12     3         3       3                0         1   \n",
      "333  24-Sep-12     4         1       1                0         0   \n",
      "334  24-Sep-12     5         4       2                1         1   \n",
      "335  24-Sep-12     6         9       1                2         2   \n",
      "\n",
      "     unique_drivers  trips_twentyfour day_of_week  average_trips  \\\n",
      "0                 9                29      Monday       0.222222   \n",
      "1                14                29      Monday       0.142857   \n",
      "2                14                27      Monday       0.000000   \n",
      "3                14                27      Monday       0.000000   \n",
      "4                11                28      Monday       0.363636   \n",
      "..              ...               ...         ...            ...   \n",
      "331               0                 3      Monday            NaN   \n",
      "332               0                 3      Monday            NaN   \n",
      "333               0                 3      Monday            NaN   \n",
      "334               3                 3      Monday       0.333333   \n",
      "335               7                 2      Monday       0.285714   \n",
      "\n",
      "              Timestamp  zeroes_to_eyes_ratio  \n",
      "0   2012-09-10 07:00:00              0.179916  \n",
      "1   2012-09-10 08:00:00              0.180021  \n",
      "2   2012-09-10 09:00:00              0.180498  \n",
      "3   2012-09-10 10:00:00              0.180412  \n",
      "4   2012-09-10 11:00:00              0.180328  \n",
      "..                  ...                   ...  \n",
      "331 2012-09-24 02:00:00              0.000000  \n",
      "332 2012-09-24 03:00:00              0.000000  \n",
      "333 2012-09-24 04:00:00              0.000000  \n",
      "334 2012-09-24 05:00:00              0.000000  \n",
      "335 2012-09-24 06:00:00              0.000000  \n",
      "\n",
      "[336 rows x 12 columns]\n"
     ]
    }
   ],
   "source": [
    "col = [] # list to store our results.\n",
    "# for every row, we will add the number of completed trips from the next 23 rows to the current row.\n",
    "for r in range(0,len(df)):\n",
    "    total_zeroes = 0\n",
    "    total_eyes = 0\n",
    "    ratio = 0\n",
    "    for i in range(0,72):\n",
    "        # if the row is out of range, then we stop the forloop.\n",
    "        if (r+i > len(df)-1):\n",
    "            total_zeroes = 0\n",
    "            break;\n",
    "        total_zeroes += df._get_value(index=r+i, col='zeroes')\n",
    "        total_eyes += df._get_value(index=r+i, col='eyeballs')\n",
    "    ratio = total_zeroes/total_eyes\n",
    "    col.append(ratio)\n",
    "df['zeroes_to_eyes_ratio'] = col\n",
    "print(df)"
   ]
  },
  {
   "cell_type": "code",
   "execution_count": 180,
   "metadata": {},
   "outputs": [
    {
     "name": "stdout",
     "output_type": "stream",
     "text": [
      "        date  time  zeroes_to_eyes_ratio\n",
      "0  15-Sep-12     5              0.292977\n"
     ]
    }
   ],
   "source": [
    "pysqldf = sqldf('SELECT date, time, zeroes_to_eyes_ratio FROM df ORDER BY zeroes_to_eyes_ratio DESC LIMIT 1')\n",
    "\n",
    "print(pysqldf)"
   ]
  },
  {
   "cell_type": "markdown",
   "metadata": {},
   "source": [
    "The 72 hour time period with the highest zeroes to eyes ratio begins on September 15 5AM and goes until Septemeber 18 5AM. "
   ]
  },
  {
   "cell_type": "markdown",
   "metadata": {},
   "source": [
    "#### Question 9: If you could add 5 drivers to any single hour of every day during the two week period, which hour should you add them to?"
   ]
  },
  {
   "cell_type": "code",
   "execution_count": 189,
   "metadata": {},
   "outputs": [
    {
     "name": "stdout",
     "output_type": "stream",
     "text": [
      "    time  eyes_to_drivers_ratio\n",
      "0     23               4.428571\n",
      "1     22               3.642857\n",
      "2      0               3.153846\n",
      "3      4               3.000000\n",
      "4     21               2.857143\n",
      "5     13               2.500000\n",
      "6      7               2.500000\n",
      "7      5               2.500000\n",
      "8     14               2.285714\n",
      "9      2               2.250000\n",
      "10    20               2.214286\n",
      "11    10               2.214286\n",
      "12    17               2.142857\n",
      "13     1               2.090909\n",
      "14    15               2.071429\n",
      "15    19               2.000000\n",
      "16    18               2.000000\n",
      "17    16               2.000000\n",
      "18    12               2.000000\n",
      "19     6               2.000000\n",
      "20    11               1.928571\n",
      "21     9               1.928571\n",
      "22     8               1.714286\n",
      "23     3               1.400000\n"
     ]
    }
   ],
   "source": [
    "pysqldf = sqldf('SELECT time, AVG(eyeballs/unique_drivers) AS eyes_to_drivers_ratio FROM df GROUP BY time ORDER BY eyes_to_drivers_ratio DESC')\n",
    "\n",
    "print(pysqldf)"
   ]
  },
  {
   "cell_type": "markdown",
   "metadata": {},
   "source": [
    "At 11PM, the ratio between the number of eyes to drivers is the highest. This means that there are many people looking for rides, but the number of drivers is insufficient. Adding 5 drivers to 11PM would probably result in more business. "
   ]
  },
  {
   "cell_type": "markdown",
   "metadata": {},
   "source": [
    "#### Question 10: Looking at the data from all two weeks, which time might make the most sense to consider a true \"end of day\" instead of midnight? (i.e when are supply and demand at both their natural minimums) Tip: Visualize the data to confirm your answer if needed. "
   ]
  },
  {
   "cell_type": "code",
   "execution_count": 25,
   "metadata": {},
   "outputs": [
    {
     "name": "stdout",
     "output_type": "stream",
     "text": [
      "      unique_drivers  requests\n",
      "time                          \n",
      "0                NaN       NaN\n",
      "1                NaN       NaN\n",
      "2                NaN       NaN\n",
      "3                NaN       NaN\n",
      "4           0.642857  0.642857\n",
      "5                NaN       NaN\n",
      "6                NaN       NaN\n",
      "7                NaN       NaN\n",
      "8                NaN       NaN\n",
      "9                NaN       NaN\n",
      "10               NaN       NaN\n",
      "11               NaN       NaN\n",
      "12               NaN       NaN\n",
      "13               NaN       NaN\n",
      "14               NaN       NaN\n",
      "15               NaN       NaN\n",
      "16               NaN       NaN\n",
      "17               NaN       NaN\n",
      "18               NaN       NaN\n",
      "19               NaN       NaN\n",
      "20               NaN       NaN\n",
      "21               NaN       NaN\n",
      "22               NaN       NaN\n",
      "23               NaN       NaN\n"
     ]
    },
    {
     "data": {
      "image/png": "[encoded data removed]",
      "text/plain": [
       "<Figure size 640x480 with 1 Axes>"
      ]
     },
     "metadata": {},
     "output_type": "display_data"
    }
   ],
   "source": [
    "# at each time value, find the average value.\n",
    "df_supply = df.groupby('time')['unique_drivers'].mean()\n",
    "df_demand = df.groupby('time')['requests'].mean()\n",
    "\n",
    "df_supply_demand = pd.merge(df_supply, df_demand, on='time')\n",
    "print(df_supply_demand[df_supply_demand == df_supply_demand.min()])\n",
    "\n",
    "# plot the supply and demand on a line plot and determine the minimum value\n",
    "ax1 = df_supply.plot(x='time', y='unique_drivers')\n",
    "ax2 = df_demand.plot(x='time', y='requests', ax=ax1)"
   ]
  },
  {
   "cell_type": "markdown",
   "metadata": {},
   "source": [
    "The average minimum number of requests and demands occur at 4AM. The true \"end of day\" would be at 4AM. "
   ]
  }
 ],
 "metadata": {
  "kernelspec": {
   "display_name": "base",
   "language": "python",
   "name": "python3"
  },
  "language_info": {
   "codemirror_mode": {
    "name": "ipython",
    "version": 3
   },
   "file_extension": ".py",
   "mimetype": "text/x-python",
   "name": "python",
   "nbconvert_exporter": "python",
   "pygments_lexer": "ipython3",
   "version": "3.11.3"
  },
  "orig_nbformat": 4
 },
 "nbformat": 4,
 "nbformat_minor": 2
}
